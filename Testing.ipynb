{
 "cells": [
  {
   "cell_type": "code",
   "execution_count": 310,
   "metadata": {},
   "outputs": [
    {
     "name": "stdout",
     "output_type": "stream",
     "text": [
      "Index(['Novel', 'Male/Female', 'Number Of Quotes', 'Average Quote Length',\n",
      "       'Adjective Ratio', 'Average Sentence Length'],\n",
      "      dtype='object')\n"
     ]
    }
   ],
   "source": [
    "#Running Models\n",
    "import pandas as pd\n",
    "data = pd.read_csv(\"./genderClassification.csv\")\n",
    "#data = pd.read_csv(\"./genderClassificationPlus.csv\")\n",
    "data =  data.drop(columns=['Unnamed: 0'])\n",
    "print(data.columns)"
   ]
  },
  {
   "cell_type": "code",
   "execution_count": 311,
   "metadata": {},
   "outputs": [],
   "source": [
    "target_label = data['Male/Female'] #Label we want to predict\n",
    "target_data = data.drop(columns=['Novel', 'Male/Female']) #data used to predict"
   ]
  },
  {
   "cell_type": "code",
   "execution_count": 312,
   "metadata": {},
   "outputs": [],
   "source": [
    "#split dataframe into male and female dataframes\n",
    "female_data = []\n",
    "male_data = []\n",
    "index = 0\n",
    "\n",
    "for row in data['Male/Female']:\n",
    "    if row == 'Female':\n",
    "        f_row_item = []\n",
    "        for item in data.iloc[index]:\n",
    "            f_row_item.append(item)\n",
    "        female_data.append(f_row_item)\n",
    "    else:\n",
    "        m_row_item = []\n",
    "        for item in data.iloc[index]:\n",
    "            m_row_item.append(item)\n",
    "        male_data.append(m_row_item)\n",
    "    index = index + 1"
   ]
  },
  {
   "cell_type": "code",
   "execution_count": 313,
   "metadata": {},
   "outputs": [],
   "source": [
    "#Form new data containing all 27 female with 27 randomly sampled males\n",
    "from random import sample\n",
    "new_data = sample(male_data, 27) #Randomly samples 27 male books\n",
    "\n",
    "#Combine the two new lists\n",
    "for row in female_data:\n",
    "    new_data.append(row)\n",
    "    \n",
    "#Change 2D list into dataframe\n",
    "second_data = pd.DataFrame(new_data, columns = data.columns)\n",
    "\n",
    "#Split data into label and data\n",
    "target_label = second_data['Male/Female'] #Label we want to predict\n",
    "target_data = second_data.drop(columns=['Novel', 'Male/Female']) #data used to predict"
   ]
  },
  {
   "cell_type": "code",
   "execution_count": null,
   "metadata": {},
   "outputs": [],
   "source": []
  },
  {
   "cell_type": "code",
   "execution_count": 314,
   "metadata": {},
   "outputs": [
    {
     "name": "stderr",
     "output_type": "stream",
     "text": [
      "C:\\Users\\alexkimbrell\\Anaconda3\\lib\\site-packages\\sklearn\\model_selection\\_split.py:2179: FutureWarning: From version 0.21, test_size will always complement train_size unless both are specified.\n",
      "  FutureWarning)\n"
     ]
    }
   ],
   "source": [
    "#Split data into train & test\n",
    "from sklearn.model_selection import train_test_split\n",
    "x_train, x_test, y_train, y_test = train_test_split(target_data, target_label, train_size=0.70, random_state=0)"
   ]
  },
  {
   "cell_type": "code",
   "execution_count": 315,
   "metadata": {},
   "outputs": [
    {
     "name": "stdout",
     "output_type": "stream",
     "text": [
      "Logistic Regression Test Accuracy: 41.1765\n"
     ]
    },
    {
     "name": "stderr",
     "output_type": "stream",
     "text": [
      "C:\\Users\\alexkimbrell\\Anaconda3\\lib\\site-packages\\sklearn\\linear_model\\logistic.py:433: FutureWarning: Default solver will be changed to 'lbfgs' in 0.22. Specify a solver to silence this warning.\n",
      "  FutureWarning)\n"
     ]
    }
   ],
   "source": [
    "#Logistic Regression\n",
    "from sklearn.linear_model import LogisticRegression\n",
    "\n",
    "modelLR = LogisticRegression(random_state=0) #Make an instance\n",
    "modelLR.fit(x_train, y_train) #Train the model\n",
    "\n",
    "predictions = modelLR.predict(x_test) #Make predictions on test data\n",
    "AccuracyLR = modelLR.score(x_test, y_test) #Use score method to evaluate the performance\n",
    "print(\"Logistic Regression Test Accuracy: {:.4f}\".format(AccuracyLR*100))\n",
    "#print(predictions)"
   ]
  },
  {
   "cell_type": "code",
   "execution_count": 316,
   "metadata": {},
   "outputs": [
    {
     "name": "stdout",
     "output_type": "stream",
     "text": [
      "Naive Bayes Test Accuracy: 64.7059\n"
     ]
    }
   ],
   "source": [
    "#Naive Bayes\n",
    "from sklearn.naive_bayes import GaussianNB\n",
    "\n",
    "modelNB = GaussianNB()\n",
    "modelNB.fit(x_train, y_train)\n",
    "\n",
    "predictions = modelNB.predict(x_test) #Make predictions on test data\n",
    "AccuracyNB = modelNB.score(x_test, y_test) #Use score method to evaluate the performance\n",
    "print(\"Naive Bayes Test Accuracy: {:.4f}\".format(AccuracyNB*100))\n",
    "#print(predictions)"
   ]
  },
  {
   "cell_type": "code",
   "execution_count": 317,
   "metadata": {},
   "outputs": [
    {
     "name": "stdout",
     "output_type": "stream",
     "text": [
      "Decision Tree Test Accuracy: 70.5882\n"
     ]
    }
   ],
   "source": [
    "#Decision Tree\n",
    "from sklearn import tree\n",
    "\n",
    "modelDT = tree.DecisionTreeClassifier(random_state=0)\n",
    "modelDT.fit(x_train, y_train)\n",
    "\n",
    "predictions = modelDT.predict(x_test) #Make predictions on test data\n",
    "AccuracyDT = modelDT.score(x_test, y_test) #Use score method to evaluate the performance\n",
    "print(\"Decision Tree Test Accuracy: {:.4f}\".format(AccuracyDT*100))\n",
    "#print(predictions)"
   ]
  },
  {
   "cell_type": "code",
   "execution_count": 318,
   "metadata": {},
   "outputs": [
    {
     "name": "stdout",
     "output_type": "stream",
     "text": [
      "Linear SVM Accuracy: 35.2941\n"
     ]
    },
    {
     "name": "stderr",
     "output_type": "stream",
     "text": [
      "C:\\Users\\alexkimbrell\\Anaconda3\\lib\\site-packages\\sklearn\\svm\\base.py:922: ConvergenceWarning: Liblinear failed to converge, increase the number of iterations.\n",
      "  \"the number of iterations.\", ConvergenceWarning)\n"
     ]
    }
   ],
   "source": [
    "#Linear SVM \n",
    "from sklearn.svm import LinearSVC\n",
    "\n",
    "clf = LinearSVC(random_state=0)\n",
    "clf.fit(x_train ,y_train)\n",
    "predictions = clf.predict(x_test)\n",
    "\n",
    "AccuracyLSVM = clf.score(x_test, y_test)\n",
    "print(\"Linear SVM Accuracy: {:.4f}\".format(AccuracyLSVM*100))\n",
    "#print(predictions)"
   ]
  },
  {
   "cell_type": "code",
   "execution_count": null,
   "metadata": {},
   "outputs": [],
   "source": []
  },
  {
   "cell_type": "code",
   "execution_count": null,
   "metadata": {},
   "outputs": [],
   "source": []
  }
 ],
 "metadata": {
  "kernelspec": {
   "display_name": "Python 3",
   "language": "python",
   "name": "python3"
  },
  "language_info": {
   "codemirror_mode": {
    "name": "ipython",
    "version": 3
   },
   "file_extension": ".py",
   "mimetype": "text/x-python",
   "name": "python",
   "nbconvert_exporter": "python",
   "pygments_lexer": "ipython3",
   "version": "3.7.1"
  }
 },
 "nbformat": 4,
 "nbformat_minor": 2
}
